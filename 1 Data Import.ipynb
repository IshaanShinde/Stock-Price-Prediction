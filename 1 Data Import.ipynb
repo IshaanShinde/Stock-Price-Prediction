{
 "cells": [
  {
   "cell_type": "code",
   "execution_count": 2,
   "metadata": {},
   "outputs": [],
   "source": [
    "import pandas as pd\n",
    "import yfinance as yf\n",
    "from datetime import datetime"
   ]
  },
  {
   "cell_type": "markdown",
   "metadata": {},
   "source": [
    "Setting start and end dates to fetch the data from"
   ]
  },
  {
   "cell_type": "code",
   "execution_count": 127,
   "metadata": {},
   "outputs": [],
   "source": [
    "number_years = 10\n",
    "\n",
    "timestamp_end = datetime.now()\n",
    "timestamp_start = datetime(timestamp_end.year - number_years, \n",
    "                           timestamp_end.month, \n",
    "                           timestamp_end.day)"
   ]
  },
  {
   "cell_type": "markdown",
   "metadata": {},
   "source": [
    "Making a dictionary of the companies I'm interested in"
   ]
  },
  {
   "cell_type": "code",
   "execution_count": 128,
   "metadata": {},
   "outputs": [],
   "source": [
    "companies = {'Amazon': 'AMZN',\n",
    "             'Nvidia': 'NVDA',\n",
    "             'META'  : 'META',\n",
    "             'AMD'   : 'AMD',\n",
    "             'GitLab': 'GTLB'}"
   ]
  },
  {
   "cell_type": "markdown",
   "metadata": {},
   "source": [
    "Fetching the data for the companies listed above"
   ]
  },
  {
   "cell_type": "code",
   "execution_count": 129,
   "metadata": {},
   "outputs": [
    {
     "name": "stderr",
     "output_type": "stream",
     "text": [
      "[*********************100%%**********************]  1 of 1 completed\n",
      "[*********************100%%**********************]  1 of 1 completed\n",
      "[*********************100%%**********************]  1 of 1 completed\n",
      "[*********************100%%**********************]  1 of 1 completed\n",
      "[*********************100%%**********************]  1 of 1 completed\n"
     ]
    }
   ],
   "source": [
    "dataset = {}\n",
    "\n",
    "for company_name, ticker in companies.items():\n",
    "    dataset[company_name] = yf.download(ticker, timestamp_start, timestamp_end)"
   ]
  },
  {
   "cell_type": "code",
   "execution_count": 130,
   "metadata": {},
   "outputs": [
    {
     "data": {
      "text/html": [
       "<div>\n",
       "<style scoped>\n",
       "    .dataframe tbody tr th:only-of-type {\n",
       "        vertical-align: middle;\n",
       "    }\n",
       "\n",
       "    .dataframe tbody tr th {\n",
       "        vertical-align: top;\n",
       "    }\n",
       "\n",
       "    .dataframe thead th {\n",
       "        text-align: right;\n",
       "    }\n",
       "</style>\n",
       "<table border=\"1\" class=\"dataframe\">\n",
       "  <thead>\n",
       "    <tr style=\"text-align: right;\">\n",
       "      <th></th>\n",
       "      <th>Open</th>\n",
       "      <th>High</th>\n",
       "      <th>Low</th>\n",
       "      <th>Close</th>\n",
       "      <th>Adj Close</th>\n",
       "      <th>Volume</th>\n",
       "    </tr>\n",
       "    <tr>\n",
       "      <th>Date</th>\n",
       "      <th></th>\n",
       "      <th></th>\n",
       "      <th></th>\n",
       "      <th></th>\n",
       "      <th></th>\n",
       "      <th></th>\n",
       "    </tr>\n",
       "  </thead>\n",
       "  <tbody>\n",
       "    <tr>\n",
       "      <th>2014-07-30</th>\n",
       "      <td>0.44725</td>\n",
       "      <td>0.45325</td>\n",
       "      <td>0.44600</td>\n",
       "      <td>0.45200</td>\n",
       "      <td>0.430276</td>\n",
       "      <td>246184000</td>\n",
       "    </tr>\n",
       "    <tr>\n",
       "      <th>2014-07-31</th>\n",
       "      <td>0.44650</td>\n",
       "      <td>0.45000</td>\n",
       "      <td>0.43675</td>\n",
       "      <td>0.43750</td>\n",
       "      <td>0.416473</td>\n",
       "      <td>401880000</td>\n",
       "    </tr>\n",
       "    <tr>\n",
       "      <th>2014-08-01</th>\n",
       "      <td>0.43750</td>\n",
       "      <td>0.44475</td>\n",
       "      <td>0.43600</td>\n",
       "      <td>0.44225</td>\n",
       "      <td>0.420994</td>\n",
       "      <td>219884000</td>\n",
       "    </tr>\n",
       "    <tr>\n",
       "      <th>2014-08-04</th>\n",
       "      <td>0.44175</td>\n",
       "      <td>0.44550</td>\n",
       "      <td>0.43900</td>\n",
       "      <td>0.44125</td>\n",
       "      <td>0.420043</td>\n",
       "      <td>241724000</td>\n",
       "    </tr>\n",
       "    <tr>\n",
       "      <th>2014-08-05</th>\n",
       "      <td>0.44000</td>\n",
       "      <td>0.44800</td>\n",
       "      <td>0.43625</td>\n",
       "      <td>0.44150</td>\n",
       "      <td>0.420280</td>\n",
       "      <td>298136000</td>\n",
       "    </tr>\n",
       "  </tbody>\n",
       "</table>\n",
       "</div>"
      ],
      "text/plain": [
       "               Open     High      Low    Close  Adj Close     Volume\n",
       "Date                                                                \n",
       "2014-07-30  0.44725  0.45325  0.44600  0.45200   0.430276  246184000\n",
       "2014-07-31  0.44650  0.45000  0.43675  0.43750   0.416473  401880000\n",
       "2014-08-01  0.43750  0.44475  0.43600  0.44225   0.420994  219884000\n",
       "2014-08-04  0.44175  0.44550  0.43900  0.44125   0.420043  241724000\n",
       "2014-08-05  0.44000  0.44800  0.43625  0.44150   0.420280  298136000"
      ]
     },
     "execution_count": 130,
     "metadata": {},
     "output_type": "execute_result"
    }
   ],
   "source": [
    "dataset['Nvidia'].head()"
   ]
  },
  {
   "cell_type": "markdown",
   "metadata": {},
   "source": [
    "Merging the data fetched into a dataframe"
   ]
  },
  {
   "cell_type": "code",
   "execution_count": 131,
   "metadata": {},
   "outputs": [],
   "source": [
    "dataframes = []\n",
    "\n",
    "for company_name, company_data in dataset.items():\n",
    "    # restting the index to turn the DatetimeIndex into a column\n",
    "    temp_dataframe = company_data.reset_index()\n",
    "    \n",
    "    temp_dataframe['company_name'] = company_name\n",
    "    temp_dataframe['ticker'] = companies[company_name]\n",
    "    \n",
    "    # reordering the columns\n",
    "    temp_dataframe = temp_dataframe[['company_name', 'ticker', 'Date', 'Open', 'High', 'Low', 'Close', 'Adj Close', 'Volume']]\n",
    "    \n",
    "    dataframes.append(temp_dataframe)\n",
    "\n",
    "# concat all DataFrames in the list\n",
    "dataframe = pd.concat(dataframes, ignore_index=True)"
   ]
  },
  {
   "cell_type": "code",
   "execution_count": 132,
   "metadata": {},
   "outputs": [
    {
     "data": {
      "text/html": [
       "<div>\n",
       "<style scoped>\n",
       "    .dataframe tbody tr th:only-of-type {\n",
       "        vertical-align: middle;\n",
       "    }\n",
       "\n",
       "    .dataframe tbody tr th {\n",
       "        vertical-align: top;\n",
       "    }\n",
       "\n",
       "    .dataframe thead th {\n",
       "        text-align: right;\n",
       "    }\n",
       "</style>\n",
       "<table border=\"1\" class=\"dataframe\">\n",
       "  <thead>\n",
       "    <tr style=\"text-align: right;\">\n",
       "      <th></th>\n",
       "      <th>company_name</th>\n",
       "      <th>ticker</th>\n",
       "      <th>Date</th>\n",
       "      <th>Open</th>\n",
       "      <th>High</th>\n",
       "      <th>Low</th>\n",
       "      <th>Close</th>\n",
       "      <th>Adj Close</th>\n",
       "      <th>Volume</th>\n",
       "    </tr>\n",
       "  </thead>\n",
       "  <tbody>\n",
       "    <tr>\n",
       "      <th>0</th>\n",
       "      <td>Amazon</td>\n",
       "      <td>AMZN</td>\n",
       "      <td>2014-07-30</td>\n",
       "      <td>16.0725</td>\n",
       "      <td>16.136499</td>\n",
       "      <td>15.9250</td>\n",
       "      <td>16.1255</td>\n",
       "      <td>16.1255</td>\n",
       "      <td>79380000</td>\n",
       "    </tr>\n",
       "    <tr>\n",
       "      <th>1</th>\n",
       "      <td>Amazon</td>\n",
       "      <td>AMZN</td>\n",
       "      <td>2014-07-31</td>\n",
       "      <td>16.0005</td>\n",
       "      <td>16.034000</td>\n",
       "      <td>15.5930</td>\n",
       "      <td>15.6495</td>\n",
       "      <td>15.6495</td>\n",
       "      <td>103840000</td>\n",
       "    </tr>\n",
       "    <tr>\n",
       "      <th>2</th>\n",
       "      <td>Amazon</td>\n",
       "      <td>AMZN</td>\n",
       "      <td>2014-08-01</td>\n",
       "      <td>15.6845</td>\n",
       "      <td>15.791500</td>\n",
       "      <td>15.2295</td>\n",
       "      <td>15.3530</td>\n",
       "      <td>15.3530</td>\n",
       "      <td>148830000</td>\n",
       "    </tr>\n",
       "    <tr>\n",
       "      <th>3</th>\n",
       "      <td>Amazon</td>\n",
       "      <td>AMZN</td>\n",
       "      <td>2014-08-04</td>\n",
       "      <td>15.4420</td>\n",
       "      <td>15.809000</td>\n",
       "      <td>15.4250</td>\n",
       "      <td>15.6825</td>\n",
       "      <td>15.6825</td>\n",
       "      <td>84018000</td>\n",
       "    </tr>\n",
       "    <tr>\n",
       "      <th>4</th>\n",
       "      <td>Amazon</td>\n",
       "      <td>AMZN</td>\n",
       "      <td>2014-08-05</td>\n",
       "      <td>15.6650</td>\n",
       "      <td>15.727500</td>\n",
       "      <td>15.5030</td>\n",
       "      <td>15.6160</td>\n",
       "      <td>15.6160</td>\n",
       "      <td>57042000</td>\n",
       "    </tr>\n",
       "  </tbody>\n",
       "</table>\n",
       "</div>"
      ],
      "text/plain": [
       "  company_name ticker       Date     Open       High      Low    Close  \\\n",
       "0       Amazon   AMZN 2014-07-30  16.0725  16.136499  15.9250  16.1255   \n",
       "1       Amazon   AMZN 2014-07-31  16.0005  16.034000  15.5930  15.6495   \n",
       "2       Amazon   AMZN 2014-08-01  15.6845  15.791500  15.2295  15.3530   \n",
       "3       Amazon   AMZN 2014-08-04  15.4420  15.809000  15.4250  15.6825   \n",
       "4       Amazon   AMZN 2014-08-05  15.6650  15.727500  15.5030  15.6160   \n",
       "\n",
       "   Adj Close     Volume  \n",
       "0    16.1255   79380000  \n",
       "1    15.6495  103840000  \n",
       "2    15.3530  148830000  \n",
       "3    15.6825   84018000  \n",
       "4    15.6160   57042000  "
      ]
     },
     "execution_count": 132,
     "metadata": {},
     "output_type": "execute_result"
    }
   ],
   "source": [
    "dataframe.head()"
   ]
  },
  {
   "cell_type": "markdown",
   "metadata": {},
   "source": [
    "Saving the dataframe"
   ]
  },
  {
   "cell_type": "code",
   "execution_count": 133,
   "metadata": {},
   "outputs": [],
   "source": [
    "dataframe.to_csv(f'yFinance {timestamp_start.date()} to {timestamp_end.date()}.csv', index=False)"
   ]
  }
 ],
 "metadata": {
  "kernelspec": {
   "display_name": "stock_price_prediction",
   "language": "python",
   "name": "python3"
  },
  "language_info": {
   "codemirror_mode": {
    "name": "ipython",
    "version": 3
   },
   "file_extension": ".py",
   "mimetype": "text/x-python",
   "name": "python",
   "nbconvert_exporter": "python",
   "pygments_lexer": "ipython3",
   "version": "3.12.4"
  }
 },
 "nbformat": 4,
 "nbformat_minor": 2
}
